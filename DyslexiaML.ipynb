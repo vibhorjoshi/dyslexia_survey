{
 "cells": [
  {
   "cell_type": "code",
   "execution_count": 8,
   "metadata": {},
   "outputs": [],
   "source": [
    "from sklearn.svm import SVC\n",
    "from sklearn.model_selection import train_test_split\n",
    "import numpy as np\n",
    "import pandas as pd\n",
    "from sklearn.ensemble import RandomForestClassifier\n",
    "from sklearn.model_selection import GridSearchCV\n",
    "from sklearn.tree import DecisionTreeClassifier\n",
    "import seaborn as sns\n",
    "import matplotlib.pyplot as plt\n",
    "from sklearn.preprocessing import StandardScaler\n",
    "from sklearn.metrics import f1_score\n",
    "from sklearn.metrics import precision_recall_fscore_support\n",
    "\n",
    "import matplotlib.pyplot as plt\n",
    "from sklearn.metrics import mean_absolute_error\n",
    "%matplotlib inline"
   ]
  },
  {
   "cell_type": "code",
   "execution_count": 9,
   "metadata": {},
   "outputs": [
    {
     "data": {
      "text/html": [
       "<div>\n",
       "<style scoped>\n",
       "    .dataframe tbody tr th:only-of-type {\n",
       "        vertical-align: middle;\n",
       "    }\n",
       "\n",
       "    .dataframe tbody tr th {\n",
       "        vertical-align: top;\n",
       "    }\n",
       "\n",
       "    .dataframe thead th {\n",
       "        text-align: right;\n",
       "    }\n",
       "</style>\n",
       "<table border=\"1\" class=\"dataframe\">\n",
       "  <thead>\n",
       "    <tr style=\"text-align: right;\">\n",
       "      <th></th>\n",
       "      <th>Language_vocab</th>\n",
       "      <th>Memory</th>\n",
       "      <th>Speed</th>\n",
       "      <th>Visual_discrimination</th>\n",
       "      <th>Audio_Discrimination</th>\n",
       "      <th>Survey_Score</th>\n",
       "      <th>Label</th>\n",
       "    </tr>\n",
       "  </thead>\n",
       "  <tbody>\n",
       "    <tr>\n",
       "      <th>0</th>\n",
       "      <td>0.5</td>\n",
       "      <td>0.6</td>\n",
       "      <td>0.5</td>\n",
       "      <td>0.8</td>\n",
       "      <td>0.6</td>\n",
       "      <td>0.7</td>\n",
       "      <td>1</td>\n",
       "    </tr>\n",
       "    <tr>\n",
       "      <th>1</th>\n",
       "      <td>0.6</td>\n",
       "      <td>0.7</td>\n",
       "      <td>0.8</td>\n",
       "      <td>0.9</td>\n",
       "      <td>0.5</td>\n",
       "      <td>0.8</td>\n",
       "      <td>2</td>\n",
       "    </tr>\n",
       "    <tr>\n",
       "      <th>2</th>\n",
       "      <td>0.6</td>\n",
       "      <td>0.4</td>\n",
       "      <td>0.3</td>\n",
       "      <td>0.3</td>\n",
       "      <td>0.4</td>\n",
       "      <td>0.6</td>\n",
       "      <td>1</td>\n",
       "    </tr>\n",
       "    <tr>\n",
       "      <th>3</th>\n",
       "      <td>0.3</td>\n",
       "      <td>0.5</td>\n",
       "      <td>0.2</td>\n",
       "      <td>0.1</td>\n",
       "      <td>0.3</td>\n",
       "      <td>0.5</td>\n",
       "      <td>0</td>\n",
       "    </tr>\n",
       "    <tr>\n",
       "      <th>4</th>\n",
       "      <td>0.7</td>\n",
       "      <td>0.6</td>\n",
       "      <td>0.7</td>\n",
       "      <td>0.8</td>\n",
       "      <td>0.9</td>\n",
       "      <td>0.5</td>\n",
       "      <td>2</td>\n",
       "    </tr>\n",
       "  </tbody>\n",
       "</table>\n",
       "</div>"
      ],
      "text/plain": [
       "   Language_vocab  Memory  Speed  Visual_discrimination  Audio_Discrimination  \\\n",
       "0             0.5     0.6    0.5                    0.8                   0.6   \n",
       "1             0.6     0.7    0.8                    0.9                   0.5   \n",
       "2             0.6     0.4    0.3                    0.3                   0.4   \n",
       "3             0.3     0.5    0.2                    0.1                   0.3   \n",
       "4             0.7     0.6    0.7                    0.8                   0.9   \n",
       "\n",
       "   Survey_Score  Label  \n",
       "0           0.7      1  \n",
       "1           0.8      2  \n",
       "2           0.6      1  \n",
       "3           0.5      0  \n",
       "4           0.5      2  "
      ]
     },
     "execution_count": 9,
     "metadata": {},
     "output_type": "execute_result"
    }
   ],
   "source": [
    "#Reading the dataset\n",
    "data=pd.read_csv('labeled_dysx.csv')\n",
    "#Value to be predicted by the model.\n",
    "y=data.Label \n",
    "#Input taken by the model.\n",
    "X=data.drop(['Label'],axis=1) \n",
    "data.head()"
   ]
  },
  {
   "cell_type": "code",
   "execution_count": 10,
   "metadata": {},
   "outputs": [],
   "source": [
    "#In the given data, the label is the indication for whether the person has dislexia or not.\n",
    "#Label = 0 means that there is a high chance that the person has dislexia.\n",
    "#Label = 1 means that there is a moderte chance that the person has dislexia.\n",
    "#Label = 2 means that there is a low chance that the person has dislexia.\n",
    "#The Survey_Score is calculated on the basis of the answers to the quiz given by the applicant."
   ]
  },
  {
   "cell_type": "code",
   "execution_count": 11,
   "metadata": {},
   "outputs": [],
   "source": [
    "#The following test cases will be used to check the values given by each model.\n",
    "test1 = np.array([[0.5, 0.1, 0.2, 0.8, 0.3, 0.5]]) #Readings for applicant 1.\n",
    "test2 = np.array([[0.7, 0.9, 0.4, 0.9, 0.3, 0.8]]) #Readings for applicant 2.\n",
    "test3 = np.array([[0.1, 0.7, 0.2, 0.6, 0.9, 0.6]]) #Readings for applicant 3.\n",
    "test4 = np.array([[0.3, 0.4, 0.5, 0.3, 0.3, 0.5]]) #Readings for applicant 4."
   ]
  },
  {
   "cell_type": "code",
   "execution_count": 12,
   "metadata": {},
   "outputs": [],
   "source": [
    "#Creating the test and train data sets for the given data.\n",
    "X_train,X_test,y_train,y_test=train_test_split(X,y,test_size=0.8,random_state=10)\n",
    "#list to store precision values of each model.\n",
    "precision = [0, 0, 0, 0, 0]\n",
    "#list to store recall values of each model.\n",
    "recall = [0, 0, 0, 0, 0]\n",
    "#list to store f1-score values of each model.\n",
    "fscore = [0, 0, 0, 0, 0]\n",
    "#list to store error in predictions of each model.\n",
    "error = [.0, .0, .0, .0, .0]"
   ]
  },
  {
   "cell_type": "code",
   "execution_count": 13,
   "metadata": {},
   "outputs": [
    {
     "data": {
      "text/plain": [
       "array([[-0.40859278,  0.09423675,  0.57481025,  1.09456548,  0.51247074,\n",
       "         0.54374235],\n",
       "       [ 2.0828266 ,  0.54298319, -0.30276265,  0.14688974,  0.01971041,\n",
       "         0.54374235],\n",
       "       [ 0.0896911 ,  0.09423675,  0.1360238 , -1.27462388, -0.47304992,\n",
       "         0.1016754 ],\n",
       "       ...,\n",
       "       [-0.90687665, -0.80325613, -0.7415491 , -1.74846175, -1.45857058,\n",
       "        -1.22452545],\n",
       "       [-0.90687665,  0.54298319, -0.30276265,  0.14688974, -0.47304992,\n",
       "         0.1016754 ],\n",
       "       [ 0.58797497,  0.09423675,  0.57481025,  2.04224123, -0.47304992,\n",
       "         0.54374235]])"
      ]
     },
     "execution_count": 13,
     "metadata": {},
     "output_type": "execute_result"
    }
   ],
   "source": [
    "#StandardScalar is used for preprocessing of data.\n",
    "#'copy' is False, which means copies are avoid and inplace scaling is done instead.\n",
    "sc=StandardScaler(copy=False)\n",
    "sc.fit_transform(X_train)\n",
    "sc.transform(X_test)"
   ]
  },
  {
   "cell_type": "code",
   "execution_count": 14,
   "metadata": {},
   "outputs": [],
   "source": [
    "#Creating lists of label outputs given in each test case by different models\n",
    "label_1 = [0, 0, 0, 0, 0]\n",
    "label_2 = [0, 0, 0, 0, 0]\n",
    "label_3 = [0, 0, 0, 0, 0]\n",
    "label_4 = [0, 0, 0, 0, 0]"
   ]
  },
  {
   "cell_type": "markdown",
   "metadata": {},
   "source": [
    "Decision Tree"
   ]
  },
  {
   "cell_type": "code",
   "execution_count": 15,
   "metadata": {},
   "outputs": [],
   "source": [
    "#Creating the DecisionTree model.\n",
    "dt = DecisionTreeClassifier(random_state = 1)\n",
    "#Training the model.\n",
    "dt.fit(X_train, y_train)\n",
    "#Making predictions using the decision tree model.\n",
    "pred_dt = dt.predict(X_test)\n",
    "#Calculating error\n",
    "error[0] = round(mean_absolute_error(y_test, pred_dt), 3)"
   ]
  },
  {
   "cell_type": "code",
   "execution_count": 16,
   "metadata": {},
   "outputs": [
    {
     "name": "stderr",
     "output_type": "stream",
     "text": [
      "/workspaces/dyslexia_survey/venv/lib/python3.10/site-packages/sklearn/base.py:493: UserWarning: X does not have valid feature names, but DecisionTreeClassifier was fitted with feature names\n",
      "  warnings.warn(\n",
      "/workspaces/dyslexia_survey/venv/lib/python3.10/site-packages/sklearn/base.py:493: UserWarning: X does not have valid feature names, but DecisionTreeClassifier was fitted with feature names\n",
      "  warnings.warn(\n",
      "/workspaces/dyslexia_survey/venv/lib/python3.10/site-packages/sklearn/base.py:493: UserWarning: X does not have valid feature names, but DecisionTreeClassifier was fitted with feature names\n",
      "  warnings.warn(\n",
      "/workspaces/dyslexia_survey/venv/lib/python3.10/site-packages/sklearn/base.py:493: UserWarning: X does not have valid feature names, but DecisionTreeClassifier was fitted with feature names\n",
      "  warnings.warn(\n"
     ]
    }
   ],
   "source": [
    "#Testing the model with predefined test cases.\n",
    "ans_1 = dt.predict((test1))\n",
    "ans_2 = dt.predict((test2))\n",
    "ans_3 = dt.predict((test3))\n",
    "ans_4 = dt.predict((test4))\n",
    "\n",
    "#Storing the above predictions into respective lists.\n",
    "label_1[0] = ans_1[0]\n",
    "label_2[0] = ans_2[0]\n",
    "label_3[0] = ans_3[0]\n",
    "label_4[0] = ans_4[0]"
   ]
  },
  {
   "cell_type": "markdown",
   "metadata": {},
   "source": [
    "Random Classifier"
   ]
  },
  {
   "cell_type": "code",
   "execution_count": 17,
   "metadata": {},
   "outputs": [],
   "source": [
    "#Creating the RandomClassifier model.\n",
    "rf = RandomForestClassifier(random_state = 0) \n",
    "#Training the model.\n",
    "rf.fit(X_train, y_train)\n",
    "#Making predictions using the model.\n",
    "pred_rf = rf.predict(X_test)\n",
    "#Calculating error\n",
    "error[1] = round(mean_absolute_error(y_test, pred_rf), 3)"
   ]
  },
  {
   "cell_type": "code",
   "execution_count": 18,
   "metadata": {},
   "outputs": [
    {
     "name": "stderr",
     "output_type": "stream",
     "text": [
      "/workspaces/dyslexia_survey/venv/lib/python3.10/site-packages/sklearn/base.py:493: UserWarning: X does not have valid feature names, but RandomForestClassifier was fitted with feature names\n",
      "  warnings.warn(\n",
      "/workspaces/dyslexia_survey/venv/lib/python3.10/site-packages/sklearn/base.py:493: UserWarning: X does not have valid feature names, but RandomForestClassifier was fitted with feature names\n",
      "  warnings.warn(\n",
      "/workspaces/dyslexia_survey/venv/lib/python3.10/site-packages/sklearn/base.py:493: UserWarning: X does not have valid feature names, but RandomForestClassifier was fitted with feature names\n",
      "  warnings.warn(\n",
      "/workspaces/dyslexia_survey/venv/lib/python3.10/site-packages/sklearn/base.py:493: UserWarning: X does not have valid feature names, but RandomForestClassifier was fitted with feature names\n",
      "  warnings.warn(\n"
     ]
    }
   ],
   "source": [
    "#Testing the model with predefined test cases.\n",
    "ans_1 = rf.predict((test1))\n",
    "ans_2 = rf.predict((test2))\n",
    "ans_3 = rf.predict((test3))\n",
    "ans_4 = rf.predict((test4))\n",
    "\n",
    "#Storing the above predictions into respective lists.\n",
    "label_1[1] = ans_1[0]\n",
    "label_2[1] = ans_2[0]\n",
    "label_3[1] = ans_3[0]\n",
    "label_4[1] = ans_4[0]"
   ]
  },
  {
   "cell_type": "markdown",
   "metadata": {},
   "source": [
    "SVM "
   ]
  },
  {
   "cell_type": "code",
   "execution_count": 19,
   "metadata": {},
   "outputs": [],
   "source": [
    "#Creating the SVM model.\n",
    "svm = SVC(kernel = \"linear\")\n",
    "#Training the model.\n",
    "svm.fit(X_train, y_train)\n",
    "#Making predictions using the model.\n",
    "pred_svm = svm.predict(X_test)\n",
    "#Calculating error\n",
    "error[2] = round(mean_absolute_error(y_test, pred_svm), 3)"
   ]
  },
  {
   "cell_type": "code",
   "execution_count": 20,
   "metadata": {},
   "outputs": [
    {
     "name": "stderr",
     "output_type": "stream",
     "text": [
      "/workspaces/dyslexia_survey/venv/lib/python3.10/site-packages/sklearn/base.py:493: UserWarning: X does not have valid feature names, but SVC was fitted with feature names\n",
      "  warnings.warn(\n",
      "/workspaces/dyslexia_survey/venv/lib/python3.10/site-packages/sklearn/base.py:493: UserWarning: X does not have valid feature names, but SVC was fitted with feature names\n",
      "  warnings.warn(\n",
      "/workspaces/dyslexia_survey/venv/lib/python3.10/site-packages/sklearn/base.py:493: UserWarning: X does not have valid feature names, but SVC was fitted with feature names\n",
      "  warnings.warn(\n",
      "/workspaces/dyslexia_survey/venv/lib/python3.10/site-packages/sklearn/base.py:493: UserWarning: X does not have valid feature names, but SVC was fitted with feature names\n",
      "  warnings.warn(\n"
     ]
    }
   ],
   "source": [
    "#Testing the model with predefined test cases.\n",
    "ans_1 = svm.predict((test1))\n",
    "ans_2 = svm.predict((test2))\n",
    "ans_3 = svm.predict((test3))\n",
    "ans_4 = svm.predict((test4))\n",
    "\n",
    "#Storing the above predictions into respective lists.\n",
    "label_1[2] = ans_1[0]\n",
    "label_2[2] = ans_2[0]\n",
    "label_3[2] = ans_3[0]\n",
    "label_4[2] = ans_4[0]"
   ]
  },
  {
   "cell_type": "markdown",
   "metadata": {},
   "source": [
    "RandomForest model with GridSearch"
   ]
  },
  {
   "cell_type": "code",
   "execution_count": 21,
   "metadata": {},
   "outputs": [
    {
     "name": "stdout",
     "output_type": "stream",
     "text": [
      "Best value of n_estimator for RandomForest model is:\n",
      "{'n_estimators': 100}\n"
     ]
    }
   ],
   "source": [
    "#Creating a list of possible n_estimators.\n",
    "n_est = {'n_estimators' : [10,100,500,1000]}\n",
    "#Creating a RandomForest model using the value of n_estimators given by GridSearch for best result.\n",
    "rf_grid = GridSearchCV(RandomForestClassifier(random_state=0),n_est,scoring='f1_macro')\n",
    "#Training the model\n",
    "rf_grid.fit(X_train, y_train)\n",
    "#Making predictions using the model.\n",
    "pred_rf_grid = rf_grid.predict(X_test)\n",
    "#Printing the value of n_estimator used in the model.\n",
    "#This value provides the most accurate predictions for our dataset.\n",
    "print('Best value of n_estimator for RandomForest model is:')\n",
    "print(rf_grid.best_params_)\n",
    "#Calculating error\n",
    "error[3] = round(mean_absolute_error(y_test, pred_rf_grid), 3)"
   ]
  },
  {
   "cell_type": "code",
   "execution_count": 22,
   "metadata": {},
   "outputs": [
    {
     "name": "stderr",
     "output_type": "stream",
     "text": [
      "/workspaces/dyslexia_survey/venv/lib/python3.10/site-packages/sklearn/base.py:493: UserWarning: X does not have valid feature names, but RandomForestClassifier was fitted with feature names\n",
      "  warnings.warn(\n",
      "/workspaces/dyslexia_survey/venv/lib/python3.10/site-packages/sklearn/base.py:493: UserWarning: X does not have valid feature names, but RandomForestClassifier was fitted with feature names\n",
      "  warnings.warn(\n",
      "/workspaces/dyslexia_survey/venv/lib/python3.10/site-packages/sklearn/base.py:493: UserWarning: X does not have valid feature names, but RandomForestClassifier was fitted with feature names\n",
      "  warnings.warn(\n",
      "/workspaces/dyslexia_survey/venv/lib/python3.10/site-packages/sklearn/base.py:493: UserWarning: X does not have valid feature names, but RandomForestClassifier was fitted with feature names\n",
      "  warnings.warn(\n"
     ]
    }
   ],
   "source": [
    "#Testing the model with predefined test cases.\n",
    "ans_1 = rf_grid.predict((test1))\n",
    "ans_2 = rf_grid.predict((test2))\n",
    "ans_3 = rf_grid.predict((test3))\n",
    "ans_4 = rf_grid.predict((test4))\n",
    "\n",
    "#Storing the above predictions into respective lists.\n",
    "label_1[3] = ans_1[0]\n",
    "label_2[3] = ans_2[0]\n",
    "label_3[3] = ans_3[0]\n",
    "label_4[3] = ans_4[0]"
   ]
  },
  {
   "cell_type": "markdown",
   "metadata": {},
   "source": [
    "SVM model with GridSearch"
   ]
  },
  {
   "cell_type": "code",
   "execution_count": 23,
   "metadata": {},
   "outputs": [
    {
     "name": "stdout",
     "output_type": "stream",
     "text": [
      "Best parameters of SVM model are:\n",
      "{'C': 1, 'kernel': 'linear'}\n"
     ]
    }
   ],
   "source": [
    "#options_parameters is a list of dictionaries to find the most suitable values of 'kernel', 'gamma' and 'C' for the given model.\n",
    "options_parameters = [{'kernel': ['rbf'], 'gamma': [1e-3, 1e-4],\n",
    "                     'C': [1, 10, 100, 1000]},\n",
    "                    {'kernel': ['linear'], 'C': [1, 10, 100, 1000]}]\n",
    "#Creating SVM model with the most suitable parameters obtained by using GridSearch.\n",
    "svm_grid = GridSearchCV(SVC(), options_parameters,scoring='f1_macro')\n",
    "#Training the model.\n",
    "svm_grid.fit(X_train, y_train)\n",
    "#Making predictions using the model.\n",
    "pred_svm_grid = svm_grid.predict(X_test)\n",
    "#Printing the values of 'C', 'gamma' and 'kernel' used in our model.\n",
    "#These values provide the most accurate predictions for the given dataset.\n",
    "print('Best parameters of SVM model are:')\n",
    "print(svm_grid.best_params_)\n",
    "#Calculating error\n",
    "error[4] = round(mean_absolute_error(y_test, pred_svm_grid), 3)"
   ]
  },
  {
   "cell_type": "code",
   "execution_count": 24,
   "metadata": {},
   "outputs": [
    {
     "name": "stderr",
     "output_type": "stream",
     "text": [
      "/workspaces/dyslexia_survey/venv/lib/python3.10/site-packages/sklearn/base.py:493: UserWarning: X does not have valid feature names, but SVC was fitted with feature names\n",
      "  warnings.warn(\n",
      "/workspaces/dyslexia_survey/venv/lib/python3.10/site-packages/sklearn/base.py:493: UserWarning: X does not have valid feature names, but SVC was fitted with feature names\n",
      "  warnings.warn(\n",
      "/workspaces/dyslexia_survey/venv/lib/python3.10/site-packages/sklearn/base.py:493: UserWarning: X does not have valid feature names, but SVC was fitted with feature names\n",
      "  warnings.warn(\n",
      "/workspaces/dyslexia_survey/venv/lib/python3.10/site-packages/sklearn/base.py:493: UserWarning: X does not have valid feature names, but SVC was fitted with feature names\n",
      "  warnings.warn(\n"
     ]
    }
   ],
   "source": [
    "#Testing the model with predefined test cases.\n",
    "ans_1 = svm_grid.predict((test1))\n",
    "ans_2 = svm_grid.predict((test2))\n",
    "ans_3 = svm_grid.predict((test3))\n",
    "ans_4 = svm_grid.predict((test4))\n",
    "\n",
    "#Storing the above predictions into respective lists.\n",
    "label_1[4] = ans_1[0]\n",
    "label_2[4] = ans_2[0]\n",
    "label_3[4] = ans_3[0]\n",
    "label_4[4] = ans_4[0]"
   ]
  },
  {
   "cell_type": "markdown",
   "metadata": {},
   "source": [
    "Comparing Errors of different models"
   ]
  },
  {
   "cell_type": "code",
   "execution_count": 25,
   "metadata": {},
   "outputs": [
    {
     "name": "stdout",
     "output_type": "stream",
     "text": [
      "Model\t\tError\n",
      "DecisionTree\t0.162\n",
      "RandomForest\t0.072\n",
      "SVM\t\t0.075\n",
      "RandomForest\n",
      "(GridSearch)\t0.072\n",
      "SVM\n",
      "(GridSearch)\t0.075\n"
     ]
    }
   ],
   "source": [
    "#list of models\n",
    "models = ['DecisionTree', 'RandomForest','SVM\\t', 'RandomForest\\n(GridSearch)', 'SVM\\n(GridSearch)']\n",
    "print('Model\\t\\tError')\n",
    "for i in range(5):\n",
    "    print('{}\\t{}'.format(models[i],error[i]))"
   ]
  },
  {
   "cell_type": "code",
   "execution_count": 26,
   "metadata": {},
   "outputs": [],
   "source": [
    "#From the above result, we can observe that the error is maximum in SVM and SVM with GridSearch model.\n",
    "#Error is minimum in DecisionTree Model.\n",
    "#We can't decide the best model for the given dataset only on the basis of error.\n",
    "#In order to find the best fit, we need to consider precision and recall as well."
   ]
  },
  {
   "cell_type": "markdown",
   "metadata": {},
   "source": [
    "Comparing Results of Different models"
   ]
  },
  {
   "cell_type": "code",
   "execution_count": 27,
   "metadata": {},
   "outputs": [
    {
     "name": "stdout",
     "output_type": "stream",
     "text": [
      "[2, 2, 1, 2, 1]\n",
      "[2, 2, 2, 2, 2]\n",
      "[1, 1, 1, 1, 1]\n",
      "[1, 1, 1, 1, 1]\n"
     ]
    }
   ],
   "source": [
    "#Printing label lists\n",
    "print(label_1)\n",
    "print(label_2)\n",
    "print(label_3)\n",
    "print(label_4)"
   ]
  },
  {
   "cell_type": "code",
   "execution_count": 28,
   "metadata": {},
   "outputs": [
    {
     "data": {
      "image/png": "[encoded data removed]",
      "text/plain": [
       "<Figure size 1000x500 with 1 Axes>"
      ]
     },
     "metadata": {},
     "output_type": "display_data"
    }
   ],
   "source": [
    "plt.figure(figsize=(10,5))\n",
    "sns.scatterplot(x = ['DecisionTree', 'RandomForest','SVM', 'RandomForest (GridSearch)', 'SVM (GridSearch)'], \n",
    "                y = label_1, s = 200, label = 'test1',)\n",
    "sns.scatterplot(x = ['DecisionTree', 'RandomForest','SVM', 'RandomForest (GridSearch)', 'SVM (GridSearch)'], \n",
    "                y = label_2, s = 150, label = 'test2')\n",
    "sns.scatterplot(x = ['DecisionTree', 'RandomForest','SVM', 'RandomForest (GridSearch)', 'SVM (GridSearch)'], \n",
    "                y = label_3, s = 100, label = 'test3')\n",
    "sns.scatterplot(x = ['DecisionTree', 'RandomForest','SVM', 'RandomForest (GridSearch)', 'SVM (GridSearch)'], \n",
    "                y = label_4, s = 50, label = 'test3')\n",
    "sns.lineplot(x = ['DecisionTree', 'RandomForest','SVM', 'RandomForest (GridSearch)', 'SVM (GridSearch)'], \n",
    "                y = label_1)\n",
    "sns.lineplot(x = ['DecisionTree', 'RandomForest','SVM', 'RandomForest (GridSearch)', 'SVM (GridSearch)'], \n",
    "                y = label_2)\n",
    "sns.lineplot(x = ['DecisionTree', 'RandomForest','SVM', 'RandomForest (GridSearch)', 'SVM (GridSearch)'], \n",
    "                y = label_3)\n",
    "sns.lineplot(x = ['DecisionTree', 'RandomForest','SVM', 'RandomForest (GridSearch)', 'SVM (GridSearch)'], \n",
    "                y = label_4)\n",
    "plt.show()"
   ]
  },
  {
   "cell_type": "markdown",
   "metadata": {},
   "source": [
    "Confusion Matrices of different models"
   ]
  },
  {
   "cell_type": "code",
   "execution_count": 30,
   "metadata": {},
   "outputs": [
    {
     "name": "stdout",
     "output_type": "stream",
     "text": [
      "[[ 38  10   0]\n",
      " [  9 187  27]\n",
      " [  0  19 110]]\n"
     ]
    },
    {
     "ename": "NameError",
     "evalue": "name 'plot_confusion_matrix' is not defined",
     "output_type": "error",
     "traceback": [
      "\u001b[0;31m---------------------------------------------------------------------------\u001b[0m",
      "\u001b[0;31mNameError\u001b[0m                                 Traceback (most recent call last)",
      "\u001b[1;32m/workspaces/dyslexia_survey/DyslexiaML.ipynb Cell 30\u001b[0m line \u001b[0;36m3\n\u001b[1;32m      <a href='vscode-notebook-cell://codespaces%2Bdidactic-space-orbit-4px9j9vj6v5h7j9p/workspaces/dyslexia_survey/DyslexiaML.ipynb#X41sdnNjb2RlLXJlbW90ZQ%3D%3D?line=0'>1</a>\u001b[0m \u001b[39m#Confusion matrix for Decision tree model.\u001b[39;00m\n\u001b[1;32m      <a href='vscode-notebook-cell://codespaces%2Bdidactic-space-orbit-4px9j9vj6v5h7j9p/workspaces/dyslexia_survey/DyslexiaML.ipynb#X41sdnNjb2RlLXJlbW90ZQ%3D%3D?line=1'>2</a>\u001b[0m \u001b[39mprint\u001b[39m(confusion_matrix(np\u001b[39m.\u001b[39marray(y_test), pred_dt))\n\u001b[0;32m----> <a href='vscode-notebook-cell://codespaces%2Bdidactic-space-orbit-4px9j9vj6v5h7j9p/workspaces/dyslexia_survey/DyslexiaML.ipynb#X41sdnNjb2RlLXJlbW90ZQ%3D%3D?line=2'>3</a>\u001b[0m plot_confusion_matrix(dt, X_test, y_test)\n\u001b[1;32m      <a href='vscode-notebook-cell://codespaces%2Bdidactic-space-orbit-4px9j9vj6v5h7j9p/workspaces/dyslexia_survey/DyslexiaML.ipynb#X41sdnNjb2RlLXJlbW90ZQ%3D%3D?line=3'>4</a>\u001b[0m plt\u001b[39m.\u001b[39mshow()\n\u001b[1;32m      <a href='vscode-notebook-cell://codespaces%2Bdidactic-space-orbit-4px9j9vj6v5h7j9p/workspaces/dyslexia_survey/DyslexiaML.ipynb#X41sdnNjb2RlLXJlbW90ZQ%3D%3D?line=4'>5</a>\u001b[0m \u001b[39m#Finding precision, recall and f-score for Decision Tree Model and updating values in respective lists.\u001b[39;00m\n",
      "\u001b[0;31mNameError\u001b[0m: name 'plot_confusion_matrix' is not defined"
     ]
    }
   ],
   "source": [
    "#Confusion matrix for Decision tree model.\n",
    "print(confusion_matrix(np.array(y_test), pred_dt))\n",
    "plot_confusion_matrix(dt, X_test, y_test)\n",
    "plt.show()\n",
    "#Finding precision, recall and f-score for Decision Tree Model and updating values in respective lists.\n",
    "precision[0], recall[0], fscore[0], Nil = precision_recall_fscore_support(y_test, pred_dt, average='macro')\n",
    "print('For a DecisionTreeClassifier:  Precision = %.3f, Recall = %.3f, F1-score = %.3f'%(precision[0], recall[0], fscore[0]))"
   ]
  },
  {
   "cell_type": "code",
   "execution_count": null,
   "metadata": {},
   "outputs": [
    {
     "name": "stdout",
     "output_type": "stream",
     "text": [
      "[[ 46   2   0]\n",
      " [  3 203  17]\n",
      " [  0   7 122]]\n"
     ]
    },
    {
     "data": {
      "image/png": "[encoded data removed]",
      "text/plain": [
       "<Figure size 432x288 with 2 Axes>"
      ]
     },
     "metadata": {
      "needs_background": "light"
     },
     "output_type": "display_data"
    },
    {
     "name": "stdout",
     "output_type": "stream",
     "text": [
      "For a RandomForestClassifier:  Precision = 0.925, Recall = 0.938, F1-score = 0.931\n"
     ]
    }
   ],
   "source": [
    "#Confusion matrix for RandomForest model.\n",
    "print(confusion_matrix(np.array(y_test), pred_rf))\n",
    "plot_confusion_matrix(rf, X_test, y_test)\n",
    "plt.show()\n",
    "#Finding precision, recall and f-score for RandomForest Model and updating values in respective lists.\n",
    "precision[1], recall[1], fscore[1], Nil = precision_recall_fscore_support(y_test, pred_rf, average='macro')\n",
    "print('For a RandomForestClassifier:  Precision = %.3f, Recall = %.3f, F1-score = %.3f'%(precision[1], recall[1], fscore[1]))"
   ]
  },
  {
   "cell_type": "code",
   "execution_count": null,
   "metadata": {},
   "outputs": [
    {
     "name": "stdout",
     "output_type": "stream",
     "text": [
      "[[ 44   4   0]\n",
      " [  4 206  13]\n",
      " [  0   9 120]]\n"
     ]
    },
    {
     "data": {
      "image/png": "[encoded data removed]",
      "text/plain": [
       "<Figure size 432x288 with 2 Axes>"
      ]
     },
     "metadata": {
      "needs_background": "light"
     },
     "output_type": "display_data"
    },
    {
     "name": "stdout",
     "output_type": "stream",
     "text": [
      "For a SVM model:  Precision = 0.920, Recall = 0.924, F1-score = 0.922\n"
     ]
    }
   ],
   "source": [
    "#Confusion matrix for SVM model\n",
    "print(confusion_matrix(np.array(y_test), pred_svm))\n",
    "plot_confusion_matrix(svm, X_test, y_test)\n",
    "plt.show()\n",
    "#Finding precision, recall and f-score for SVM model and updating values in respective lists.\n",
    "precision[2], recall[2], fscore[2], Nil = precision_recall_fscore_support(y_test, pred_svm, average='macro')\n",
    "print('For a SVM model:  Precision = %.3f, Recall = %.3f, F1-score = %.3f'%(precision[2], recall[2], fscore[2]))"
   ]
  },
  {
   "cell_type": "code",
   "execution_count": null,
   "metadata": {},
   "outputs": [
    {
     "name": "stdout",
     "output_type": "stream",
     "text": [
      "[[ 46   2   0]\n",
      " [  3 203  17]\n",
      " [  0   7 122]]\n"
     ]
    },
    {
     "data": {
      "image/png": "[encoded data removed]",
      "text/plain": [
       "<Figure size 432x288 with 2 Axes>"
      ]
     },
     "metadata": {
      "needs_background": "light"
     },
     "output_type": "display_data"
    },
    {
     "name": "stdout",
     "output_type": "stream",
     "text": [
      "For a RandomForest model with GridSearch:  Precision = 0.925, Recall = 0.938, F1-score = 0.931\n"
     ]
    }
   ],
   "source": [
    "#Confusion matrix for RandomForest model using GridSearch\n",
    "print(confusion_matrix(np.array(y_test), pred_rf_grid))\n",
    "plot_confusion_matrix(rf_grid, X_test, y_test)\n",
    "plt.show()\n",
    "#Finding precision, recall and f-score for RandomForest (GridSearch) model and updating values in respective lists.\n",
    "precision[3], recall[3], fscore[3], Nil = precision_recall_fscore_support(y_test, pred_rf_grid, average='macro')\n",
    "print('For a RandomForest model with GridSearch:  Precision = %.3f, Recall = %.3f, F1-score = %.3f'%(precision[3], recall[3], fscore[3]))"
   ]
  },
  {
   "cell_type": "code",
   "execution_count": null,
   "metadata": {},
   "outputs": [
    {
     "name": "stdout",
     "output_type": "stream",
     "text": [
      "[[ 44   4   0]\n",
      " [  4 206  13]\n",
      " [  0   9 120]]\n"
     ]
    },
    {
     "data": {
      "image/png": "[encoded data removed]",
      "text/plain": [
       "<Figure size 432x288 with 2 Axes>"
      ]
     },
     "metadata": {
      "needs_background": "light"
     },
     "output_type": "display_data"
    },
    {
     "name": "stdout",
     "output_type": "stream",
     "text": [
      "For a SVM model with GridSearch:  Precision = 0.920, Recall = 0.924, F1-score = 0.922\n"
     ]
    }
   ],
   "source": [
    "#Confusion matrix for SVM model using GridSearch\n",
    "print(confusion_matrix(np.array(y_test), pred_svm_grid))\n",
    "plot_confusion_matrix(svm_grid, X_test, y_test)\n",
    "plt.show()\n",
    "#Finding precision, recall and f-score for SVM (GridSearch) model and updating values in respective lists.\n",
    "precision[4], recall[4], fscore[4], Nil = precision_recall_fscore_support(y_test, pred_svm_grid, average='macro')\n",
    "print('For a SVM model with GridSearch:  Precision = %.3f, Recall = %.3f, F1-score = %.3f'%(precision[4], recall[4], fscore[4]))"
   ]
  },
  {
   "cell_type": "code",
   "execution_count": null,
   "metadata": {},
   "outputs": [
    {
     "data": {
      "image/png": "[encoded data removed]",
      "text/plain": [
       "<Figure size 1080x360 with 1 Axes>"
      ]
     },
     "metadata": {
      "needs_background": "light"
     },
     "output_type": "display_data"
    }
   ],
   "source": [
    "#Creating a line plot to compare teh precision, recall and f1-score of all the models.\n",
    "#This graph is plotted to find the best fit for our dataset.\n",
    "plt.figure(figsize=(15,5))\n",
    "sns.lineplot(x = ['DecisionTree', 'RandomForest','SVM', 'RandomForest (GridSearch)', 'SVM (GridSearch)'], \n",
    "             y = precision,label = 'precision')\n",
    "sns.lineplot(x = ['DecisionTree', 'RandomForest','SVM', 'RandomForest (GridSearch)', 'SVM (GridSearch)'], \n",
    "             y = recall,label = 'recall')\n",
    "sns.lineplot(x = ['DecisionTree', 'RandomForest','SVM', 'RandomForest (GridSearch)', 'SVM (GridSearch)'], \n",
    "             y = fscore,label = 'f1-score')\n",
    "plt.show()"
   ]
  },
  {
   "cell_type": "code",
   "execution_count": null,
   "metadata": {},
   "outputs": [],
   "source": [
    "#From the above plot, we can see that the RandomForest model with GridSearch is the best fit for the given dataset."
   ]
  },
  {
   "cell_type": "markdown",
   "metadata": {},
   "source": [
    "Making Predictions with best fit model"
   ]
  },
  {
   "cell_type": "code",
   "execution_count": null,
   "metadata": {},
   "outputs": [
    {
     "name": "stdout",
     "output_type": "stream",
     "text": [
      "Applicant\tLabel\tPossibility of Dyslexia\n",
      "1\t\t2\t\tLow\n",
      "2\t\t2\t\tLow\n",
      "3\t\t1\t\tModerate\n",
      "4\t\t1\t\tModerate\n"
     ]
    }
   ],
   "source": [
    "#Therefore the most accurate results for all the applicants are as follows.\n",
    "possibility = {0: \"High\", 1: \"Moderate\", 2: \"Low\"}\n",
    "print('Applicant\\tLabel\\tPossibility of Dyslexia')\n",
    "print('1\\t\\t{}\\t\\t{}'.format(label_1[3], possibility[label_1[3]]))\n",
    "print('2\\t\\t{}\\t\\t{}'.format(label_2[3], possibility[label_2[3]]))\n",
    "print('3\\t\\t{}\\t\\t{}'.format(label_3[3], possibility[label_3[3]]))\n",
    "print('4\\t\\t{}\\t\\t{}'.format(label_4[3], possibility[label_4[3]]))"
   ]
  }
 ],
 "metadata": {
  "kernelspec": {
   "display_name": "Python 3",
   "language": "python",
   "name": "python3"
  },
  "language_info": {
   "codemirror_mode": {
    "name": "ipython",
    "version": 3
   },
   "file_extension": ".py",
   "mimetype": "text/x-python",
   "name": "python",
   "nbconvert_exporter": "python",
   "pygments_lexer": "ipython3",
   "version": "3.8.5"
  }
 },
 "nbformat": 4,
 "nbformat_minor": 4
}
